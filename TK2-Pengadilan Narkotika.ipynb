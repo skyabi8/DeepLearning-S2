{
 "cells": [
  {
   "cell_type": "markdown",
   "id": "8ea636b7-f00c-491d-b690-37e4aa2c8cfe",
   "metadata": {},
   "source": [
    "## Member of Team"
   ]
  },
  {
   "cell_type": "markdown",
   "id": "5333f11e-513e-4988-a07b-dea8bdfda770",
   "metadata": {},
   "source": [
    "Raka Julianza Hernanda\n",
    "2402313171\n",
    "\n",
    "Syauqi Damario Djohan\n",
    "2502478616\n",
    "\n",
    "Najmi Hasfi Abiyyu\n",
    "2502478622"
   ]
  },
  {
   "cell_type": "markdown",
   "id": "9a1ab4e1-57ac-44d2-91a0-572636bbd00a",
   "metadata": {},
   "source": [
    "## Library Model"
   ]
  },
  {
   "cell_type": "markdown",
   "id": "27485f73-b751-4a50-8820-9ce5e438264e",
   "metadata": {},
   "source": [
    "### Machine Learning"
   ]
  },
  {
   "cell_type": "code",
   "execution_count": 1,
   "id": "713464b3-00d5-46a0-9b33-59eaf1e8425e",
   "metadata": {
    "tags": []
   },
   "outputs": [],
   "source": [
    "import fitz\n",
    "import re\n",
    "import pandas as pd\n",
    "import numpy as np\n",
    "\n",
    "from string import digits\n",
    "from tqdm import tqdm\n",
    "\n",
    "from matplotlib import pyplot as plt\n",
    "import seaborn as sns\n",
    "\n",
    "from sklearn.model_selection import train_test_split\n",
    "from sklearn import preprocessing\n",
    "from sklearn.metrics import classification_report, confusion_matrix\n",
    "from mlxtend.plotting import plot_confusion_matrix"
   ]
  },
  {
   "cell_type": "markdown",
   "id": "58a5b711-2c57-41ab-b7b3-2933b47e94b9",
   "metadata": {},
   "source": [
    "### Model Deep Learning"
   ]
  },
  {
   "cell_type": "code",
   "execution_count": 2,
   "id": "b1976194-deb1-43ba-97f6-dc42991bd30b",
   "metadata": {},
   "outputs": [
    {
     "name": "stderr",
     "output_type": "stream",
     "text": [
      "2024-11-03 07:36:09.388652: I tensorflow/core/platform/cpu_feature_guard.cc:193] This TensorFlow binary is optimized with oneAPI Deep Neural Network Library (oneDNN) to use the following CPU instructions in performance-critical operations:  AVX2 AVX512F AVX512_VNNI FMA\n",
      "To enable them in other operations, rebuild TensorFlow with the appropriate compiler flags.\n",
      "2024-11-03 07:36:09.515923: I tensorflow/core/util/util.cc:169] oneDNN custom operations are on. You may see slightly different numerical results due to floating-point round-off errors from different computation orders. To turn them off, set the environment variable `TF_ENABLE_ONEDNN_OPTS=0`.\n",
      "2024-11-03 07:36:09.553157: E tensorflow/stream_executor/cuda/cuda_blas.cc:2981] Unable to register cuBLAS factory: Attempting to register factory for plugin cuBLAS when one has already been registered\n",
      "2024-11-03 07:36:11.793268: W tensorflow/stream_executor/platform/default/dso_loader.cc:64] Could not load dynamic library 'libnvinfer.so.7'; dlerror: libnvinfer.so.7: cannot open shared object file: No such file or directory; LD_LIBRARY_PATH: /usr/local/nvidia/lib64:/usr/local/cuda/lib64:/usr/local/nvidia/lib:/usr/local/cuda/lib:/usr/local/nvidia/lib:/usr/local/nvidia/lib64\n",
      "2024-11-03 07:36:11.793349: W tensorflow/stream_executor/platform/default/dso_loader.cc:64] Could not load dynamic library 'libnvinfer_plugin.so.7'; dlerror: libnvinfer_plugin.so.7: cannot open shared object file: No such file or directory; LD_LIBRARY_PATH: /usr/local/nvidia/lib64:/usr/local/cuda/lib64:/usr/local/nvidia/lib:/usr/local/cuda/lib:/usr/local/nvidia/lib:/usr/local/nvidia/lib64\n",
      "2024-11-03 07:36:11.793358: W tensorflow/compiler/tf2tensorrt/utils/py_utils.cc:38] TF-TRT Warning: Cannot dlopen some TensorRT libraries. If you would like to use Nvidia GPU with TensorRT, please make sure the missing libraries mentioned above are installed properly.\n",
      "/home/cdsw/.local/lib/python3.10/site-packages/tqdm/auto.py:21: TqdmWarning: IProgress not found. Please update jupyter and ipywidgets. See https://ipywidgets.readthedocs.io/en/stable/user_install.html\n",
      "  from .autonotebook import tqdm as notebook_tqdm\n"
     ]
    }
   ],
   "source": [
    "import tensorflow as tf\n",
    "import transformers\n",
    "\n",
    "from tensorflow.keras.layers import Dense, Input\n",
    "from tensorflow.keras.optimizers import Adam\n",
    "from tensorflow.keras.models import Model\n",
    "from tensorflow.keras.callbacks import ModelCheckpoint\n",
    "from transformers import TFBertModel\n",
    "from transformers import AutoTokenizer, AutoModel, BertTokenizer\n",
    "\n",
    "from tokenizers import BertWordPieceTokenizer\n",
    "\n",
    "# model_choice = \"distilbert-base-multilingual-cased\"\n",
    "model_choice = \"bert-base-uncased\""
   ]
  },
  {
   "cell_type": "markdown",
   "id": "2b4a30a0-afd2-40fb-97e4-26b8cc3779e1",
   "metadata": {},
   "source": [
    "## Load Dataset"
   ]
  },
  {
   "cell_type": "code",
   "execution_count": 3,
   "id": "2a941cb4-abd5-45e3-bf0a-8e43fb23e8dc",
   "metadata": {
    "tags": []
   },
   "outputs": [
    {
     "data": {
      "text/html": [
       "<div>\n",
       "<style scoped>\n",
       "    .dataframe tbody tr th:only-of-type {\n",
       "        vertical-align: middle;\n",
       "    }\n",
       "\n",
       "    .dataframe tbody tr th {\n",
       "        vertical-align: top;\n",
       "    }\n",
       "\n",
       "    .dataframe thead th {\n",
       "        text-align: right;\n",
       "    }\n",
       "</style>\n",
       "<table border=\"1\" class=\"dataframe\">\n",
       "  <thead>\n",
       "    <tr style=\"text-align: right;\">\n",
       "      <th></th>\n",
       "      <th>keyword</th>\n",
       "      <th>amar</th>\n",
       "      <th>amar_lainnya</th>\n",
       "      <th>name_document</th>\n",
       "      <th>result_text</th>\n",
       "    </tr>\n",
       "  </thead>\n",
       "  <tbody>\n",
       "    <tr>\n",
       "      <th>0</th>\n",
       "      <td>NaN</td>\n",
       "      <td>Ditolak</td>\n",
       "      <td>—</td>\n",
       "      <td>zaef6125c5c7d37caf65313530303333</td>\n",
       "      <td>menolak permohonan kasasi dari pemohon kasasi ...</td>\n",
       "    </tr>\n",
       "    <tr>\n",
       "      <th>1</th>\n",
       "      <td>NaN</td>\n",
       "      <td>Ditolak</td>\n",
       "      <td>—</td>\n",
       "      <td>zaef6125473ccd00a6b3313435373030</td>\n",
       "      <td>menolak permohonan kasasi dari pemohon kasasi ...</td>\n",
       "    </tr>\n",
       "    <tr>\n",
       "      <th>2</th>\n",
       "      <td>kekhilafan hakim atau kekeliruan</td>\n",
       "      <td>Ditolak</td>\n",
       "      <td>—</td>\n",
       "      <td>zaef6124fcbd259093f1313435343535</td>\n",
       "      <td>menolak permohonan peninjauan kembali dari pem...</td>\n",
       "    </tr>\n",
       "    <tr>\n",
       "      <th>3</th>\n",
       "      <td>kekhilafan Hakim atau kekeliruan</td>\n",
       "      <td>Diterima</td>\n",
       "      <td>—</td>\n",
       "      <td>zaef6123d8b0a16494bf313434363435</td>\n",
       "      <td>kembali menyatakan terpidana ilhamsyah alias a...</td>\n",
       "    </tr>\n",
       "    <tr>\n",
       "      <th>4</th>\n",
       "      <td>NaN</td>\n",
       "      <td>Ditolak</td>\n",
       "      <td>—</td>\n",
       "      <td>zaef53b89bf9a1088ca8313235363232</td>\n",
       "      <td>menolak permohonan kasasi dari pemohon kasasi ...</td>\n",
       "    </tr>\n",
       "    <tr>\n",
       "      <th>...</th>\n",
       "      <td>...</td>\n",
       "      <td>...</td>\n",
       "      <td>...</td>\n",
       "      <td>...</td>\n",
       "      <td>...</td>\n",
       "    </tr>\n",
       "    <tr>\n",
       "      <th>163</th>\n",
       "      <td>NARKOTIKA</td>\n",
       "      <td>Ditolak</td>\n",
       "      <td>M E N G A D I L I:- Menolak permohonan kasasi ...</td>\n",
       "      <td>zaeedd3cedc9a87285e5313831333435</td>\n",
       "      <td>menolak permohonan kasasi dari pemohon kasasi ...</td>\n",
       "    </tr>\n",
       "    <tr>\n",
       "      <th>164</th>\n",
       "      <td>NARKOTIKA</td>\n",
       "      <td>Diterima</td>\n",
       "      <td>TOLAK PK</td>\n",
       "      <td>b221ff0c27190fadd1849b0217cb026f</td>\n",
       "      <td>menolak permohonan peninjauan kembali dari pem...</td>\n",
       "    </tr>\n",
       "    <tr>\n",
       "      <th>165</th>\n",
       "      <td>NaN</td>\n",
       "      <td>Ditolak</td>\n",
       "      <td>—</td>\n",
       "      <td>c80f8c7108c24c0c41ad4c3a7604a667</td>\n",
       "      <td>menolak permohonan peninjauan kembali dari pem...</td>\n",
       "    </tr>\n",
       "    <tr>\n",
       "      <th>166</th>\n",
       "      <td>Kesehatan</td>\n",
       "      <td>Diterima</td>\n",
       "      <td>PIDANA PENJARA WAKTU TERTENTU</td>\n",
       "      <td>zaef678698ededb6bf5d313734383436</td>\n",
       "      <td>dari putusan nomor disclaimer kepaniteraan mah...</td>\n",
       "    </tr>\n",
       "    <tr>\n",
       "      <th>167</th>\n",
       "      <td>Lain-Lain</td>\n",
       "      <td>Diterima</td>\n",
       "      <td>DICABUT</td>\n",
       "      <td>zaef678691c275acbbc6313734383334</td>\n",
       "      <td>mengabulkan permohonan pemohon menyatakan perm...</td>\n",
       "    </tr>\n",
       "  </tbody>\n",
       "</table>\n",
       "<p>168 rows × 5 columns</p>\n",
       "</div>"
      ],
      "text/plain": [
       "                              keyword      amar  \\\n",
       "0                                 NaN   Ditolak   \n",
       "1                                 NaN   Ditolak   \n",
       "2    kekhilafan hakim atau kekeliruan   Ditolak   \n",
       "3    kekhilafan Hakim atau kekeliruan  Diterima   \n",
       "4                                 NaN   Ditolak   \n",
       "..                                ...       ...   \n",
       "163                         NARKOTIKA   Ditolak   \n",
       "164                         NARKOTIKA  Diterima   \n",
       "165                               NaN   Ditolak   \n",
       "166                         Kesehatan  Diterima   \n",
       "167                         Lain-Lain  Diterima   \n",
       "\n",
       "                                          amar_lainnya  \\\n",
       "0                                                    —   \n",
       "1                                                    —   \n",
       "2                                                    —   \n",
       "3                                                    —   \n",
       "4                                                    —   \n",
       "..                                                 ...   \n",
       "163  M E N G A D I L I:- Menolak permohonan kasasi ...   \n",
       "164                                           TOLAK PK   \n",
       "165                                                  —   \n",
       "166                      PIDANA PENJARA WAKTU TERTENTU   \n",
       "167                                            DICABUT   \n",
       "\n",
       "                        name_document  \\\n",
       "0    zaef6125c5c7d37caf65313530303333   \n",
       "1    zaef6125473ccd00a6b3313435373030   \n",
       "2    zaef6124fcbd259093f1313435343535   \n",
       "3    zaef6123d8b0a16494bf313434363435   \n",
       "4    zaef53b89bf9a1088ca8313235363232   \n",
       "..                                ...   \n",
       "163  zaeedd3cedc9a87285e5313831333435   \n",
       "164  b221ff0c27190fadd1849b0217cb026f   \n",
       "165  c80f8c7108c24c0c41ad4c3a7604a667   \n",
       "166  zaef678698ededb6bf5d313734383436   \n",
       "167  zaef678691c275acbbc6313734383334   \n",
       "\n",
       "                                           result_text  \n",
       "0    menolak permohonan kasasi dari pemohon kasasi ...  \n",
       "1    menolak permohonan kasasi dari pemohon kasasi ...  \n",
       "2    menolak permohonan peninjauan kembali dari pem...  \n",
       "3    kembali menyatakan terpidana ilhamsyah alias a...  \n",
       "4    menolak permohonan kasasi dari pemohon kasasi ...  \n",
       "..                                                 ...  \n",
       "163  menolak permohonan kasasi dari pemohon kasasi ...  \n",
       "164  menolak permohonan peninjauan kembali dari pem...  \n",
       "165  menolak permohonan peninjauan kembali dari pem...  \n",
       "166  dari putusan nomor disclaimer kepaniteraan mah...  \n",
       "167  mengabulkan permohonan pemohon menyatakan perm...  \n",
       "\n",
       "[168 rows x 5 columns]"
      ]
     },
     "execution_count": 3,
     "metadata": {},
     "output_type": "execute_result"
    }
   ],
   "source": [
    "df = pd.read_csv('Metadata_Real.csv', sep=';')\n",
    "df"
   ]
  },
  {
   "cell_type": "code",
   "execution_count": 4,
   "id": "3452e4a2-4a50-4ded-a01b-df127da8265d",
   "metadata": {
    "tags": []
   },
   "outputs": [
    {
     "data": {
      "image/png": "[encoded data removed]",
      "text/plain": [
       "<Figure size 432x288 with 1 Axes>"
      ]
     },
     "metadata": {
      "needs_background": "light"
     },
     "output_type": "display_data"
    }
   ],
   "source": [
    "df.groupby('amar').size().plot(kind='barh', color=sns.palettes.mpl_palette('Dark2'))\n",
    "plt.gca().spines[['top', 'right',]].set_visible(False)"
   ]
  },
  {
   "cell_type": "markdown",
   "id": "a9a2f359-e148-41db-84f8-61b6c19e45ac",
   "metadata": {},
   "source": [
    "## Preprocessing"
   ]
  },
  {
   "cell_type": "markdown",
   "id": "708605fd-cdb5-448c-a115-cfdfc2854990",
   "metadata": {},
   "source": [
    "### Label Encoder"
   ]
  },
  {
   "cell_type": "code",
   "execution_count": 5,
   "id": "3be6a4a9-51dc-4c54-93d7-5e50129aa598",
   "metadata": {
    "tags": []
   },
   "outputs": [],
   "source": [
    "label_encoder = preprocessing.LabelEncoder()\n",
    "df['amar']= label_encoder.fit_transform(df['amar']) "
   ]
  },
  {
   "cell_type": "code",
   "execution_count": 6,
   "id": "7c859b7a-7fac-499b-add1-4d51f5364019",
   "metadata": {
    "tags": []
   },
   "outputs": [
    {
     "data": {
      "image/png": "[encoded data removed]",
      "text/plain": [
       "<Figure size 432x288 with 1 Axes>"
      ]
     },
     "metadata": {
      "needs_background": "light"
     },
     "output_type": "display_data"
    }
   ],
   "source": [
    "df.groupby('amar').size().plot(kind='barh', color=sns.palettes.mpl_palette('Dark2'))\n",
    "for index, value in enumerate(df.groupby('amar').size()):\n",
    "    plt.text(value, index, str(value), va='center')\n",
    "plt.gca().spines[['top', 'right',]].set_visible(False)"
   ]
  },
  {
   "cell_type": "markdown",
   "id": "a94f1397-ce24-4aa6-8b82-6bc7dfde007d",
   "metadata": {},
   "source": [
    "### Split Data"
   ]
  },
  {
   "cell_type": "code",
   "execution_count": 7,
   "id": "25802b42-dae3-438a-8fdc-9b19d8243d8c",
   "metadata": {
    "tags": []
   },
   "outputs": [],
   "source": [
    "train, valid = train_test_split(df, test_size=0.3, random_state=42)"
   ]
  },
  {
   "cell_type": "code",
   "execution_count": 8,
   "id": "55c3955a-1e2e-4557-bfb6-7e7c887b66f0",
   "metadata": {
    "tags": []
   },
   "outputs": [
    {
     "data": {
      "image/png": "[encoded data removed]",
      "text/plain": [
       "<Figure size 432x288 with 1 Axes>"
      ]
     },
     "metadata": {
      "needs_background": "light"
     },
     "output_type": "display_data"
    }
   ],
   "source": [
    "# Train\n",
    "train.groupby('amar').size().plot(kind='barh', color=sns.palettes.mpl_palette('Dark2'))\n",
    "for index, value in enumerate(train.groupby('amar').size()):\n",
    "    plt.text(value, index, str(value), va='center')\n",
    "plt.gca().spines[['top', 'right',]].set_visible(False)"
   ]
  },
  {
   "cell_type": "code",
   "execution_count": 9,
   "id": "24537c7d-367b-4aa0-9db9-5f35692fd417",
   "metadata": {
    "tags": []
   },
   "outputs": [
    {
     "data": {
      "image/png": "[encoded data removed]",
      "text/plain": [
       "<Figure size 432x288 with 1 Axes>"
      ]
     },
     "metadata": {
      "needs_background": "light"
     },
     "output_type": "display_data"
    }
   ],
   "source": [
    "# Valid\n",
    "valid.groupby('amar').size().plot(kind='barh', color=sns.palettes.mpl_palette('Dark2'))\n",
    "for index, value in enumerate(valid.groupby('amar').size()):\n",
    "    plt.text(value, index, str(value), va='center')\n",
    "plt.gca().spines[['top', 'right',]].set_visible(False)"
   ]
  },
  {
   "cell_type": "markdown",
   "id": "aec06134-aaf4-4da5-a9fb-2be52e5dc61b",
   "metadata": {},
   "source": [
    "### Config Preprocessing"
   ]
  },
  {
   "cell_type": "code",
   "execution_count": 10,
   "id": "f1b9a3a6-9f5d-461d-82bc-edcf4d34edd2",
   "metadata": {},
   "outputs": [],
   "source": [
    "chunk_size = 256\n",
    "maxlen = 512"
   ]
  },
  {
   "cell_type": "markdown",
   "id": "fe080e96-ac0e-4c12-bf66-3f1b550e601b",
   "metadata": {},
   "source": [
    "### Tokenizer"
   ]
  },
  {
   "cell_type": "code",
   "execution_count": 11,
   "id": "fd64a0c5-df37-4399-9d4f-43cd486bae64",
   "metadata": {},
   "outputs": [],
   "source": [
    "def fast_encode(texts, tokenizer, chunk_size=chunk_size, maxlen=maxlen):\n",
    "    tokenizer.enable_truncation(max_length=maxlen)\n",
    "    tokenizer.enable_padding(length=maxlen)\n",
    "    all_ids = []\n",
    "    all_masks = []\n",
    "    \n",
    "    for i in tqdm(range(0, len(texts), chunk_size)):\n",
    "        text_chunk = texts[i:i+chunk_size].tolist()\n",
    "        encs = tokenizer.encode_batch(text_chunk)\n",
    "        all_ids.extend([enc.ids for enc in encs])\n",
    "        all_masks.extend([enc.attention_mask for enc in encs])  # Add attention masks\n",
    "    \n",
    "    return np.array(all_ids), np.array(all_masks)"
   ]
  },
  {
   "cell_type": "code",
   "execution_count": 12,
   "id": "207d2eb2-0127-4363-b05f-5632f6ac5691",
   "metadata": {},
   "outputs": [
    {
     "name": "stderr",
     "output_type": "stream",
     "text": [
      "/home/cdsw/.local/lib/python3.10/site-packages/huggingface_hub/file_download.py:797: FutureWarning: `resume_download` is deprecated and will be removed in version 1.0.0. Downloads always resume when possible. If you want to force a new download, use `force_download=True`.\n",
      "  warnings.warn(\n",
      "The tokenizer class you load from this checkpoint is not the same type as the class this function is called from. It may result in unexpected tokenization. \n",
      "The tokenizer class you load from this checkpoint is 'BertTokenizer'. \n",
      "The class this function is called from is 'DistilBertTokenizer'.\n"
     ]
    }
   ],
   "source": [
    "tokenizer = transformers.DistilBertTokenizer.from_pretrained(model_choice)\n",
    "tokenizer.save_pretrained('.')\n",
    "fast_tokenizer = BertWordPieceTokenizer('vocab.txt', lowercase=False)"
   ]
  },
  {
   "cell_type": "code",
   "execution_count": 13,
   "id": "63609953-46e1-4baf-ba83-33e3a6743174",
   "metadata": {},
   "outputs": [
    {
     "data": {
      "text/plain": [
       "Tokenizer(vocabulary_size=30522, model=BertWordPiece, unk_token=[UNK], sep_token=[SEP], cls_token=[CLS], pad_token=[PAD], mask_token=[MASK], clean_text=True, handle_chinese_chars=True, strip_accents=None, lowercase=False, wordpieces_prefix=##)"
      ]
     },
     "execution_count": 13,
     "metadata": {},
     "output_type": "execute_result"
    }
   ],
   "source": [
    "fast_tokenizer"
   ]
  },
  {
   "cell_type": "code",
   "execution_count": 14,
   "id": "820a8529-37f6-49b1-95d3-3afaaa73997b",
   "metadata": {},
   "outputs": [
    {
     "name": "stderr",
     "output_type": "stream",
     "text": [
      "100%|████████████████████████████████████████████| 1/1 [00:00<00:00, 107.08it/s]\n",
      "100%|████████████████████████████████████████████| 1/1 [00:00<00:00, 307.68it/s]\n"
     ]
    }
   ],
   "source": [
    "x_train_ids, x_train_masks = fast_encode(train.result_text.astype(str), fast_tokenizer, maxlen=maxlen)\n",
    "x_valid_ids, x_valid_masks = fast_encode(valid.result_text.astype(str), fast_tokenizer, maxlen=maxlen)\n",
    "\n",
    "y_train = train.amar\n",
    "y_valid = valid.amar"
   ]
  },
  {
   "cell_type": "markdown",
   "id": "0a8ca36a-3ba7-4831-9e4c-f1f031e36b3f",
   "metadata": {},
   "source": [
    "## Model"
   ]
  },
  {
   "cell_type": "markdown",
   "id": "4392e6a4-a806-4202-bdcf-6c668d51a1e5",
   "metadata": {},
   "source": [
    "### Config Model"
   ]
  },
  {
   "cell_type": "code",
   "execution_count": 15,
   "id": "c21e207f-def9-4d26-956e-e9fb036adf39",
   "metadata": {},
   "outputs": [],
   "source": [
    "AUTO = tf.data.experimental.AUTOTUNE\n",
    "\n",
    "EPOCHS = 15\n",
    "BATCH_SIZE = 16\n",
    "MAX_LEN = 512\n",
    "n_steps = 64\n",
    "\n",
    "shuffle = 1024\n",
    "\n",
    "model_checkpoint = tf.keras.callbacks.ModelCheckpoint(\n",
    "    'tun_best_model.h5', monitor='val_accuracy', save_best_only=True, mode='max'\n",
    ")\n",
    "\n",
    "num_labels = 2"
   ]
  },
  {
   "cell_type": "code",
   "execution_count": 16,
   "id": "1ae4004d-c951-4423-8465-5876912d6a80",
   "metadata": {
    "tags": []
   },
   "outputs": [
    {
     "name": "stderr",
     "output_type": "stream",
     "text": [
      "2024-11-03 07:36:23.716601: I tensorflow/core/platform/cpu_feature_guard.cc:193] This TensorFlow binary is optimized with oneAPI Deep Neural Network Library (oneDNN) to use the following CPU instructions in performance-critical operations:  AVX2 AVX512F AVX512_VNNI FMA\n",
      "To enable them in other operations, rebuild TensorFlow with the appropriate compiler flags.\n",
      "2024-11-03 07:36:23.830303: I tensorflow/core/common_runtime/gpu/gpu_device.cc:1616] Created device /job:localhost/replica:0/task:0/device:GPU:0 with 31134 MB memory:  -> device: 0, name: Tesla V100-PCIE-32GB, pci bus id: 0000:2f:00.0, compute capability: 7.0\n"
     ]
    }
   ],
   "source": [
    "train_dataset = (\n",
    "    tf.data.Dataset\n",
    "    .from_tensor_slices(((x_train_ids, x_train_masks), y_train))\n",
    "    .repeat()\n",
    "    .shuffle(shuffle)\n",
    "    .batch(BATCH_SIZE)\n",
    "    .prefetch(AUTO)\n",
    ")\n",
    "\n",
    "valid_dataset = (\n",
    "    tf.data.Dataset\n",
    "    .from_tensor_slices(((x_valid_ids, x_valid_masks), y_valid))\n",
    "    .batch(BATCH_SIZE)\n",
    "    .cache()\n",
    "    .prefetch(AUTO)\n",
    ")"
   ]
  },
  {
   "cell_type": "markdown",
   "id": "b184add7-cc7d-457d-88fd-a35d4a97b06b",
   "metadata": {},
   "source": [
    "### Modelling"
   ]
  },
  {
   "cell_type": "code",
   "execution_count": 17,
   "id": "391d69fd-939d-4f40-9d8f-462b7c3b47a9",
   "metadata": {},
   "outputs": [],
   "source": [
    "def build_model(transformer, max_len=MAX_LEN, num_labels=num_labels):\n",
    "    input_word_ids = Input(shape=(MAX_LEN), dtype=tf.int32, name=\"input_ids\")\n",
    "    attention_mask = Input(shape=(MAX_LEN), dtype=tf.int32, name=\"attention_mask\")\n",
    "    sequence_output = transformer([input_word_ids, attention_mask])[0]\n",
    "    \n",
    "    cls_token = sequence_output[:, 0, :]\n",
    "    out = Dense(num_labels, activation='softmax')(cls_token)\n",
    "    \n",
    "    model = Model(inputs=[input_word_ids, attention_mask], outputs=out)\n",
    "    model.compile(optimizer=Adam(learning_rate=1e-5), loss='sparse_categorical_crossentropy', metrics=['accuracy'])\n",
    "    \n",
    "    return model"
   ]
  },
  {
   "cell_type": "code",
   "execution_count": 18,
   "id": "e9a80adf-e444-4c54-9e5c-e5fbc6b88d46",
   "metadata": {
    "tags": []
   },
   "outputs": [
    {
     "name": "stderr",
     "output_type": "stream",
     "text": [
      "/home/cdsw/.local/lib/python3.10/site-packages/huggingface_hub/file_download.py:797: FutureWarning: `resume_download` is deprecated and will be removed in version 1.0.0. Downloads always resume when possible. If you want to force a new download, use `force_download=True`.\n",
      "  warnings.warn(\n",
      "Some weights of the PyTorch model were not used when initializing the TF 2.0 model TFBertModel: ['cls.seq_relationship.weight', 'cls.predictions.transform.LayerNorm.bias', 'cls.predictions.transform.dense.weight', 'cls.predictions.bias', 'cls.predictions.transform.dense.bias', 'cls.seq_relationship.bias', 'cls.predictions.transform.LayerNorm.weight']\n",
      "- This IS expected if you are initializing TFBertModel from a PyTorch model trained on another task or with another architecture (e.g. initializing a TFBertForSequenceClassification model from a BertForPreTraining model).\n",
      "- This IS NOT expected if you are initializing TFBertModel from a PyTorch model that you expect to be exactly identical (e.g. initializing a TFBertForSequenceClassification model from a BertForSequenceClassification model).\n",
      "All the weights of TFBertModel were initialized from the PyTorch model.\n",
      "If your task is similar to the task the model of the checkpoint was trained on, you can already use TFBertModel for predictions without further training.\n"
     ]
    },
    {
     "name": "stdout",
     "output_type": "stream",
     "text": [
      "Model: \"model\"\n",
      "__________________________________________________________________________________________________\n",
      " Layer (type)                   Output Shape         Param #     Connected to                     \n",
      "==================================================================================================\n",
      " input_ids (InputLayer)         [(None, 512)]        0           []                               \n",
      "                                                                                                  \n",
      " attention_mask (InputLayer)    [(None, 512)]        0           []                               \n",
      "                                                                                                  \n",
      " tf_bert_model (TFBertModel)    TFBaseModelOutputWi  109482240   ['input_ids[0][0]',              \n",
      "                                thPoolingAndCrossAt               'attention_mask[0][0]']         \n",
      "                                tentions(last_hidde                                               \n",
      "                                n_state=(None, 512,                                               \n",
      "                                 768),                                                            \n",
      "                                 pooler_output=(Non                                               \n",
      "                                e, 768),                                                          \n",
      "                                 past_key_values=No                                               \n",
      "                                ne, hidden_states=N                                               \n",
      "                                one, attentions=Non                                               \n",
      "                                e, cross_attentions                                               \n",
      "                                =None)                                                            \n",
      "                                                                                                  \n",
      " tf.__operators__.getitem (Slic  (None, 768)         0           ['tf_bert_model[0][0]']          \n",
      " ingOpLambda)                                                                                     \n",
      "                                                                                                  \n",
      " dense (Dense)                  (None, 2)            1538        ['tf.__operators__.getitem[0][0]'\n",
      "                                                                 ]                                \n",
      "                                                                                                  \n",
      "==================================================================================================\n",
      "Total params: 109,483,778\n",
      "Trainable params: 109,483,778\n",
      "Non-trainable params: 0\n",
      "__________________________________________________________________________________________________\n",
      "CPU times: user 6.7 s, sys: 617 ms, total: 7.31 s\n",
      "Wall time: 7.65 s\n"
     ]
    }
   ],
   "source": [
    "%%time\n",
    "transformer_layer = TFBertModel.from_pretrained(model_choice)\n",
    "model = build_model(transformer_layer, max_len=MAX_LEN)\n",
    "model.summary()"
   ]
  },
  {
   "cell_type": "code",
   "execution_count": 19,
   "id": "b8ed6d6a-b690-459b-9871-e37f83f2d37b",
   "metadata": {
    "tags": []
   },
   "outputs": [
    {
     "name": "stdout",
     "output_type": "stream",
     "text": [
      "Epoch 1/15\n",
      "WARNING:tensorflow:Gradients do not exist for variables ['tf_bert_model/bert/pooler/dense/kernel:0', 'tf_bert_model/bert/pooler/dense/bias:0'] when minimizing the loss. If you're using `model.compile()`, did you forget to provide a `loss` argument?\n",
      "WARNING:tensorflow:Gradients do not exist for variables ['tf_bert_model/bert/pooler/dense/kernel:0', 'tf_bert_model/bert/pooler/dense/bias:0'] when minimizing the loss. If you're using `model.compile()`, did you forget to provide a `loss` argument?\n",
      "64/64 [==============================] - 66s 803ms/step - loss: 0.6410 - accuracy: 0.6250 - val_loss: 0.6057 - val_accuracy: 0.6471\n",
      "Epoch 2/15\n",
      "64/64 [==============================] - 46s 727ms/step - loss: 0.3208 - accuracy: 0.8652 - val_loss: 0.8439 - val_accuracy: 0.7255\n",
      "Epoch 3/15\n",
      "64/64 [==============================] - 47s 736ms/step - loss: 0.1093 - accuracy: 0.9561 - val_loss: 1.3125 - val_accuracy: 0.7647\n",
      "Epoch 4/15\n",
      "64/64 [==============================] - 41s 643ms/step - loss: 0.0251 - accuracy: 0.9912 - val_loss: 1.4274 - val_accuracy: 0.7451\n",
      "Epoch 5/15\n",
      "64/64 [==============================] - 41s 641ms/step - loss: 0.0125 - accuracy: 0.9951 - val_loss: 1.7273 - val_accuracy: 0.7059\n",
      "Epoch 6/15\n",
      "64/64 [==============================] - 41s 641ms/step - loss: 0.0179 - accuracy: 0.9932 - val_loss: 1.6597 - val_accuracy: 0.7647\n",
      "Epoch 7/15\n",
      "64/64 [==============================] - 47s 733ms/step - loss: 0.0040 - accuracy: 1.0000 - val_loss: 1.5475 - val_accuracy: 0.8235\n",
      "Epoch 8/15\n",
      "64/64 [==============================] - 41s 643ms/step - loss: 0.0011 - accuracy: 1.0000 - val_loss: 1.7604 - val_accuracy: 0.7647\n",
      "Epoch 9/15\n",
      "64/64 [==============================] - 41s 642ms/step - loss: 5.9625e-04 - accuracy: 1.0000 - val_loss: 1.7787 - val_accuracy: 0.7647\n",
      "Epoch 10/15\n",
      "64/64 [==============================] - 41s 641ms/step - loss: 4.3686e-04 - accuracy: 1.0000 - val_loss: 1.8660 - val_accuracy: 0.7647\n",
      "Epoch 11/15\n",
      "64/64 [==============================] - 41s 641ms/step - loss: 3.3795e-04 - accuracy: 1.0000 - val_loss: 1.9184 - val_accuracy: 0.7647\n",
      "Epoch 12/15\n",
      "64/64 [==============================] - 41s 641ms/step - loss: 3.4530e-04 - accuracy: 1.0000 - val_loss: 1.8772 - val_accuracy: 0.7843\n",
      "Epoch 13/15\n",
      "64/64 [==============================] - 41s 641ms/step - loss: 2.7002e-04 - accuracy: 1.0000 - val_loss: 1.8898 - val_accuracy: 0.7843\n",
      "Epoch 14/15\n",
      "64/64 [==============================] - 41s 641ms/step - loss: 0.0011 - accuracy: 1.0000 - val_loss: 1.7835 - val_accuracy: 0.8039\n",
      "Epoch 15/15\n",
      "64/64 [==============================] - 41s 641ms/step - loss: 2.6870e-04 - accuracy: 1.0000 - val_loss: 1.8150 - val_accuracy: 0.7843\n"
     ]
    }
   ],
   "source": [
    "train_history = model.fit(\n",
    "    train_dataset,\n",
    "    steps_per_epoch=n_steps,\n",
    "    epochs=EPOCHS,\n",
    "    validation_data=valid_dataset,\n",
    "    callbacks=[model_checkpoint]\n",
    ")"
   ]
  },
  {
   "cell_type": "code",
   "execution_count": 20,
   "id": "da7a26f2-c087-4d5c-a132-6652bca4420b",
   "metadata": {},
   "outputs": [
    {
     "name": "stdout",
     "output_type": "stream",
     "text": [
      "Epoch 1/5\n",
      "64/64 [==============================] - 33s 506ms/step - loss: 0.2633 - accuracy: 0.9326\n",
      "Epoch 2/5\n",
      "64/64 [==============================] - 33s 507ms/step - loss: 0.0157 - accuracy: 0.9939\n",
      "Epoch 3/5\n",
      "64/64 [==============================] - 33s 506ms/step - loss: 0.0024 - accuracy: 1.0000\n",
      "Epoch 4/5\n",
      "64/64 [==============================] - 33s 506ms/step - loss: 0.0010 - accuracy: 1.0000\n",
      "Epoch 5/5\n",
      "64/64 [==============================] - 33s 506ms/step - loss: 6.7247e-04 - accuracy: 1.0000\n"
     ]
    }
   ],
   "source": [
    "valid_history = model.fit(\n",
    "    valid_dataset.repeat(),\n",
    "    steps_per_epoch=n_steps,\n",
    "    epochs=5\n",
    ")"
   ]
  },
  {
   "cell_type": "markdown",
   "id": "4790a6ad-ba99-4af3-9f6f-7ef9f02c6317",
   "metadata": {},
   "source": [
    "## Summary"
   ]
  },
  {
   "cell_type": "markdown",
   "id": "76c24f1d-6469-4ecf-9a08-2743dcbb292a",
   "metadata": {},
   "source": [
    "### Result"
   ]
  },
  {
   "cell_type": "code",
   "execution_count": 21,
   "id": "9437762c-7209-4c5b-b763-bf4badb69f0f",
   "metadata": {
    "tags": []
   },
   "outputs": [
    {
     "data": {
      "image/png": "[encoded data removed]",
      "text/plain": [
       "<Figure size 720x288 with 1 Axes>"
      ]
     },
     "metadata": {
      "needs_background": "light"
     },
     "output_type": "display_data"
    },
    {
     "data": {
      "image/png": "[encoded data removed]",
      "text/plain": [
       "<Figure size 720x288 with 1 Axes>"
      ]
     },
     "metadata": {
      "needs_background": "light"
     },
     "output_type": "display_data"
    }
   ],
   "source": [
    "fig, ax = plt.subplots(figsize = (10, 4))\n",
    "ax.plot(train_history.history['accuracy'], label = 'train accuracy')\n",
    "ax.plot(train_history.history['val_accuracy'], label = 'val accuracy')\n",
    "ax.set_title('Akurasi Model')\n",
    "ax.set_xlabel('Epoch')\n",
    "ax.set_ylabel('Accuracy')\n",
    "ax.legend(loc = 'upper left')\n",
    "plt.show()\n",
    "\n",
    "fig, ax = plt.subplots(figsize = (10, 4))\n",
    "ax.plot(train_history.history['loss'], label = 'train loss')\n",
    "ax.plot(train_history.history['val_loss'], label = 'val loss')\n",
    "ax.set_title('Model Loss')\n",
    "ax.set_xlabel('Epoch')\n",
    "ax.set_ylabel('Loss')\n",
    "ax.legend(loc = 'upper left')\n",
    "plt.show()"
   ]
  },
  {
   "cell_type": "code",
   "execution_count": 32,
   "id": "d0c2114f-11b3-4a08-b3bb-457c9b268570",
   "metadata": {
    "tags": []
   },
   "outputs": [
    {
     "name": "stdout",
     "output_type": "stream",
     "text": [
      "4/4 [==============================] - 1s 156ms/step - loss: 4.3995e-05 - accuracy: 1.0000\n"
     ]
    },
    {
     "data": {
      "text/plain": [
       "[4.3995427404297516e-05, 1.0]"
      ]
     },
     "execution_count": 32,
     "metadata": {},
     "output_type": "execute_result"
    }
   ],
   "source": [
    "result = model.evaluate(valid_dataset)\n",
    "result"
   ]
  },
  {
   "cell_type": "code",
   "execution_count": 33,
   "id": "cfaf5b52-7eb6-47c9-beca-5a3f2d324b23",
   "metadata": {
    "tags": []
   },
   "outputs": [
    {
     "name": "stdout",
     "output_type": "stream",
     "text": [
      "Resnet Model Accuracy Train:  100.00 %\n"
     ]
    }
   ],
   "source": [
    "print(f\"Resnet Model Accuracy Train: {result[1] * 100: 0.2f} %\")"
   ]
  },
  {
   "cell_type": "markdown",
   "id": "f5b23d94-faf6-42a3-a38a-6770a1263903",
   "metadata": {},
   "source": [
    "### Confusion Matrix & Classification Report"
   ]
  },
  {
   "cell_type": "code",
   "execution_count": 24,
   "id": "c47c0dc5-4683-4e35-9c80-486f1970703c",
   "metadata": {
    "tags": []
   },
   "outputs": [
    {
     "name": "stdout",
     "output_type": "stream",
     "text": [
      "2/2 [==============================] - 3s 244ms/step\n"
     ]
    }
   ],
   "source": [
    "y_pred = model.predict((x_valid_ids, x_valid_masks))"
   ]
  },
  {
   "cell_type": "code",
   "execution_count": 25,
   "id": "34a6097e-8e68-4713-91fa-218cbc4c6bf8",
   "metadata": {
    "tags": []
   },
   "outputs": [
    {
     "data": {
      "text/plain": [
       "array([0, 0, 1, 1, 0, 1, 0, 1, 0, 1, 0, 1, 1, 1, 0, 1, 1, 1, 0, 0, 0, 0,\n",
       "       1, 0, 0, 1, 1, 1, 1, 1, 1, 0, 1, 0, 1, 0, 1, 0, 1, 0, 1, 0, 0, 1,\n",
       "       1, 1, 1, 1, 0, 0, 1])"
      ]
     },
     "execution_count": 25,
     "metadata": {},
     "output_type": "execute_result"
    }
   ],
   "source": [
    "y_pred = y_pred.argmax(axis=1)\n",
    "y_pred"
   ]
  },
  {
   "cell_type": "code",
   "execution_count": 26,
   "id": "26b4f902-d0c4-40cb-97ad-e044c9d737dd",
   "metadata": {
    "tags": []
   },
   "outputs": [
    {
     "name": "stdout",
     "output_type": "stream",
     "text": [
      "[[22  0]\n",
      " [ 0 29]]\n"
     ]
    }
   ],
   "source": [
    "cm = confusion_matrix(y_valid, y_pred)\n",
    "print(cm)"
   ]
  },
  {
   "cell_type": "code",
   "execution_count": 27,
   "id": "cb34c152-1088-41af-8984-f915b6f38674",
   "metadata": {
    "tags": []
   },
   "outputs": [
    {
     "name": "stdout",
     "output_type": "stream",
     "text": [
      "              precision    recall  f1-score   support\n",
      "\n",
      "           0       1.00      1.00      1.00        22\n",
      "           1       1.00      1.00      1.00        29\n",
      "\n",
      "    accuracy                           1.00        51\n",
      "   macro avg       1.00      1.00      1.00        51\n",
      "weighted avg       1.00      1.00      1.00        51\n",
      "\n"
     ]
    }
   ],
   "source": [
    "cr = classification_report(y_valid, y_pred)\n",
    "print(cr)"
   ]
  },
  {
   "cell_type": "code",
   "execution_count": 28,
   "id": "4374cf6d-997d-4f22-802f-c4467106f72d",
   "metadata": {
    "tags": []
   },
   "outputs": [
    {
     "data": {
      "image/png": "[encoded data removed]",
      "text/plain": [
       "<Figure size 432x432 with 1 Axes>"
      ]
     },
     "metadata": {
      "needs_background": "light"
     },
     "output_type": "display_data"
    }
   ],
   "source": [
    "conf_matrix = confusion_matrix(y_valid, y_pred)\n",
    "fig, ax = plot_confusion_matrix(conf_mat=conf_matrix, figsize=(6, 6), cmap=plt.cm.Greens)\n",
    "plt.xlabel('Predictions', fontsize=18)\n",
    "plt.ylabel('Actuals', fontsize=18)\n",
    "plt.title('Confusion Matrix', fontsize=18)\n",
    "plt.show()"
   ]
  },
  {
   "cell_type": "code",
   "execution_count": null,
   "id": "2ebad04f-dd57-4a1d-9a16-e39eb417593e",
   "metadata": {},
   "outputs": [],
   "source": []
  }
 ],
 "metadata": {
  "kernelspec": {
   "display_name": "Python 3 (ipykernel)",
   "language": "python",
   "name": "python3"
  },
  "language_info": {
   "codemirror_mode": {
    "name": "ipython",
    "version": 3
   },
   "file_extension": ".py",
   "mimetype": "text/x-python",
   "name": "python",
   "nbconvert_exporter": "python",
   "pygments_lexer": "ipython3",
   "version": "3.10.9"
  }
 },
 "nbformat": 4,
 "nbformat_minor": 5
}
